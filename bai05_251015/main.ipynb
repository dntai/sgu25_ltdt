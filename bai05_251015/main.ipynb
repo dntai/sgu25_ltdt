{
 "cells": [
  {
   "cell_type": "markdown",
   "id": "8a192a65",
   "metadata": {},
   "source": [
    "# CHƯƠNG 05: TÌM ĐƯỜNG ĐI NGẮN NHẤT"
   ]
  },
  {
   "cell_type": "markdown",
   "id": "6a8929fb",
   "metadata": {},
   "source": [
    "## Bài 1. Tìm đường đi ngắn nhất (Dijkstra)"
   ]
  },
  {
   "cell_type": "code",
   "execution_count": 1,
   "id": "a5961edb",
   "metadata": {},
   "outputs": [
    {
     "name": "stdout",
     "output_type": "stream",
     "text": [
      "Overwriting dijkstra.in1\n"
     ]
    }
   ],
   "source": [
    "%%writefile dijkstra.in1\n",
    "6 7 1 4\n",
    "1 2 1\n",
    "1 6 10\n",
    "2 3 2\n",
    "3 4 20\n",
    "3 6 3\n",
    "6 5 4\n",
    "5 4 5"
   ]
  },
  {
   "cell_type": "code",
   "execution_count": 8,
   "id": "f6b9a6af",
   "metadata": {},
   "outputs": [
    {
     "name": "stdout",
     "output_type": "stream",
     "text": [
      "n=6, m=7, s->t:1->4\n"
     ]
    }
   ],
   "source": [
    "!g++ dijkstra.cpp -o dijkstra.exe\n",
    "!dijkstra.exe <dijkstra.in1"
   ]
  },
  {
   "cell_type": "markdown",
   "id": "604680c9",
   "metadata": {},
   "source": [
    "## Kết thúc"
   ]
  }
 ],
 "metadata": {
  "kernelspec": {
   "display_name": "base",
   "language": "python",
   "name": "python3"
  },
  "language_info": {
   "codemirror_mode": {
    "name": "ipython",
    "version": 3
   },
   "file_extension": ".py",
   "mimetype": "text/x-python",
   "name": "python",
   "nbconvert_exporter": "python",
   "pygments_lexer": "ipython3",
   "version": "3.11.5"
  }
 },
 "nbformat": 4,
 "nbformat_minor": 5
}
