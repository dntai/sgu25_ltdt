{
 "cells": [
  {
   "cell_type": "markdown",
   "id": "1d29f7c0",
   "metadata": {},
   "source": [
    "# BUỔI 05: TÌM ĐƯỜNG ĐI NGẮN NHẤT"
   ]
  },
  {
   "cell_type": "markdown",
   "id": "d1bd0f9d",
   "metadata": {},
   "source": [
    "## Bài 01: Dijsktra"
   ]
  },
  {
   "cell_type": "code",
   "execution_count": 4,
   "id": "2a0ff1af",
   "metadata": {},
   "outputs": [
    {
     "name": "stdout",
     "output_type": "stream",
     "text": [
      "---- Code ----\n",
      "#include <iostream>\n",
      "using namespace std;\n",
      "\n",
      "int main(){\n",
      "    return 0;\n",
      "}\n"
     ]
    }
   ],
   "source": [
    "print(\"---- Code ----\")\n",
    "!cat dijsktra.cpp"
   ]
  },
  {
   "cell_type": "code",
   "execution_count": null,
   "id": "5c6586d3",
   "metadata": {},
   "outputs": [
    {
     "name": "stdout",
     "output_type": "stream",
     "text": [
      "6 7 1 4\n",
      "1 2 1\n",
      "1 6 10\n",
      "2 3 2\n",
      "3 4 20\n",
      "3 6 3\n",
      "6 5 4\n",
      "5 4 5\n"
     ]
    }
   ],
   "source": [
    "!cat dijsktra.in1"
   ]
  },
  {
   "cell_type": "code",
   "execution_count": 19,
   "id": "46df1aa4",
   "metadata": {},
   "outputs": [
    {
     "name": "stdout",
     "output_type": "stream",
     "text": [
      "6 15\n",
      "1 2 3 6 5 4 \n"
     ]
    }
   ],
   "source": [
    "!g++ dijsktra.cpp -o dijsktra.exe\n",
    "!dijsktra.exe <dijsktra.in1"
   ]
  },
  {
   "cell_type": "markdown",
   "id": "a4bc1273",
   "metadata": {},
   "source": []
  },
  {
   "cell_type": "markdown",
   "id": "7580d14e",
   "metadata": {},
   "source": [
    "## Kết thúc"
   ]
  }
 ],
 "metadata": {
  "kernelspec": {
   "display_name": "adv_ds23",
   "language": "python",
   "name": "python3"
  },
  "language_info": {
   "codemirror_mode": {
    "name": "ipython",
    "version": 3
   },
   "file_extension": ".py",
   "mimetype": "text/x-python",
   "name": "python",
   "nbconvert_exporter": "python",
   "pygments_lexer": "ipython3",
   "version": "3.9.18"
  }
 },
 "nbformat": 4,
 "nbformat_minor": 5
}
