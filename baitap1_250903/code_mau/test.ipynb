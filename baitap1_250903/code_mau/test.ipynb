{
 "cells": [
  {
   "cell_type": "code",
   "execution_count": 3,
   "id": "c15a583a",
   "metadata": {},
   "outputs": [
    {
     "name": "stdout",
     "output_type": "stream",
     "text": [
      "/workspaces/sgu25_ltdt/baitap1_250903\n"
     ]
    },
    {
     "name": "stdout",
     "output_type": "stream",
     "text": [
      "Elements of a (by index): 1 3 \n",
      "Elements of a (by iterator): 1 3 \n",
      "Elements of a (reverse): 3 1 \n",
      "After insert 2 before 1: 2 1 3 \n",
      "After erase 3: 2 1 \n",
      "Size of a after clear: 0\n"
     ]
    }
   ],
   "source": [
    "%cd /workspaces/sgu25_ltdt/baitap1_250903/\n",
    "!g++ vector.cpp -o vector\n",
    "!./vector"
   ]
  },
  {
   "cell_type": "code",
   "execution_count": null,
   "id": "863af7f9",
   "metadata": {},
   "outputs": [],
   "source": []
  }
 ],
 "metadata": {
  "kernelspec": {
   "display_name": "Python 3",
   "language": "python",
   "name": "python3"
  },
  "language_info": {
   "codemirror_mode": {
    "name": "ipython",
    "version": 3
   },
   "file_extension": ".py",
   "mimetype": "text/x-python",
   "name": "python",
   "nbconvert_exporter": "python",
   "pygments_lexer": "ipython3",
   "version": "3.12.1"
  }
 },
 "nbformat": 4,
 "nbformat_minor": 5
}
