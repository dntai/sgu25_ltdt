{
 "cells": [
  {
   "cell_type": "code",
   "execution_count": 3,
   "id": "fe4a81a4",
   "metadata": {},
   "outputs": [
    {
     "name": "stdout",
     "output_type": "stream",
     "text": [
      "3\n",
      "3 4 8 \n"
     ]
    }
   ],
   "source": [
    "!g++ LIENTHONGBFS.cpp -o LIENTHONGBFS\n",
    "!./LIENTHONGBFS <LIENTHONGBFS.INP"
   ]
  },
  {
   "cell_type": "code",
   "execution_count": 7,
   "id": "be9a7968",
   "metadata": {},
   "outputs": [
    {
     "name": "stdout",
     "output_type": "stream",
     "text": [
      "3\n",
      "3 4 8 \n"
     ]
    }
   ],
   "source": [
    "!g++ LIENTHONGDFS.cpp -o LIENTHONGDFS\n",
    "!./LIENTHONGDFS <LIENTHONGDFS.INP"
   ]
  },
  {
   "cell_type": "code",
   "execution_count": null,
   "id": "28aa6af9",
   "metadata": {},
   "outputs": [],
   "source": []
  }
 ],
 "metadata": {
  "kernelspec": {
   "display_name": "Python 3",
   "language": "python",
   "name": "python3"
  },
  "language_info": {
   "codemirror_mode": {
    "name": "ipython",
    "version": 3
   },
   "file_extension": ".py",
   "mimetype": "text/x-python",
   "name": "python",
   "nbconvert_exporter": "python",
   "pygments_lexer": "ipython3",
   "version": "3.12.1"
  }
 },
 "nbformat": 4,
 "nbformat_minor": 5
}
