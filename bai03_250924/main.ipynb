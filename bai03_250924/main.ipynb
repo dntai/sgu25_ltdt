{
 "cells": [
  {
   "cell_type": "code",
   "execution_count": 28,
   "id": "4ddfb396",
   "metadata": {},
   "outputs": [
    {
     "name": "stdout",
     "output_type": "stream",
     "text": [
      "3\n",
      "1 2 5 \n",
      "3 4 7 8 \n",
      "6 \n"
     ]
    }
   ],
   "source": [
    "!g++ MIENLIENTHONG.CPP -o MIENLIENTHONG\n",
    "!./MIENLIENTHONG <MIENLIENTHONG.INP"
   ]
  },
  {
   "cell_type": "code",
   "execution_count": 21,
   "id": "edc6f505",
   "metadata": {},
   "outputs": [
    {
     "name": "stdout",
     "output_type": "stream",
     "text": [
      "3\n",
      "3 4 8 \n"
     ]
    }
   ],
   "source": [
    "!g++ LIENTHONGBFS.CPP -o LIENTHONGBFS\n",
    "!./LIENTHONGBFS <LIENTHONGBFS.INP"
   ]
  }
 ],
 "metadata": {
  "kernelspec": {
   "display_name": "Python 3",
   "language": "python",
   "name": "python3"
  },
  "language_info": {
   "codemirror_mode": {
    "name": "ipython",
    "version": 3
   },
   "file_extension": ".py",
   "mimetype": "text/x-python",
   "name": "python",
   "nbconvert_exporter": "python",
   "pygments_lexer": "ipython3",
   "version": "3.12.1"
  }
 },
 "nbformat": 4,
 "nbformat_minor": 5
}
