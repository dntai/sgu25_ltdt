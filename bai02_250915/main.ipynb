{
 "cells": [
  {
   "cell_type": "code",
   "execution_count": 1,
   "id": "9dc9020c",
   "metadata": {},
   "outputs": [
    {
     "name": "stdout",
     "output_type": "stream",
     "text": [
      "6\n",
      "0 1 1 0 0 0\n",
      "0 0 0 1 1 0\n",
      "0 1 0 0 1 0\n",
      "0 0 0 0 1 1\n",
      "0 1 0 0 0 1\n",
      "0 0 0 0 0 0"
     ]
    }
   ],
   "source": [
    "!cat BONCHUA.INP"
   ]
  },
  {
   "cell_type": "code",
   "execution_count": 3,
   "id": "dcfda2c7",
   "metadata": {},
   "outputs": [
    {
     "name": "stdout",
     "output_type": "stream",
     "text": [
      "1\n",
      "6 \n"
     ]
    }
   ],
   "source": [
    "!g++ BONCHUA.CPP -o BONCHUA\n",
    "!./BONCHUA <BONCHUA.INP"
   ]
  },
  {
   "cell_type": "code",
   "execution_count": 3,
   "id": "8021c4d8",
   "metadata": {},
   "outputs": [
    {
     "name": "stdout",
     "output_type": "stream",
     "text": [
      "6\n",
      "2\n",
      "4\n",
      "3\n",
      "4\n",
      "3\n",
      "2\n"
     ]
    }
   ],
   "source": [
    "!g++ MATRANKE.CPP -o MATRANKE\n",
    "!./MATRANKE <MATRANKE.INP >MATRANKE.OUT\n",
    "!cat MATRANKE.OUT"
   ]
  },
  {
   "cell_type": "code",
   "execution_count": 4,
   "id": "0d80edff",
   "metadata": {},
   "outputs": [
    {
     "name": "stdout",
     "output_type": "stream",
     "text": [
      "Overwriting DANHSACHKE.INP\n"
     ]
    }
   ],
   "source": [
    "%%writefile DANHSACHKE.INP\n",
    "5\n",
    "2 3\n",
    "1 2 3\n",
    "1 2 5\n",
    "5\n",
    "2 3 4"
   ]
  },
  {
   "cell_type": "code",
   "execution_count": 10,
   "id": "e415a421",
   "metadata": {},
   "outputs": [
    {
     "name": "stdout",
     "output_type": "stream",
     "text": [
      "5\n",
      "2\n",
      "3\n",
      "3\n",
      "1\n",
      "3\n"
     ]
    }
   ],
   "source": [
    "!g++ DANHSACHKE.CPP -o DANHSACHKE\n",
    "!./DANHSACHKE <DANHSACHKE.INP >DANHSACHKE.OUT\n",
    "!cat DANHSACHKE.OUT"
   ]
  },
  {
   "cell_type": "code",
   "execution_count": null,
   "id": "f0febcc9",
   "metadata": {},
   "outputs": [],
   "source": []
  }
 ],
 "metadata": {
  "kernelspec": {
   "display_name": "Python 3",
   "language": "python",
   "name": "python3"
  },
  "language_info": {
   "codemirror_mode": {
    "name": "ipython",
    "version": 3
   },
   "file_extension": ".py",
   "mimetype": "text/x-python",
   "name": "python",
   "nbconvert_exporter": "python",
   "pygments_lexer": "ipython3",
   "version": "3.12.1"
  }
 },
 "nbformat": 4,
 "nbformat_minor": 5
}
